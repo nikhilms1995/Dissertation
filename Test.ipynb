{
 "cells": [
  {
   "cell_type": "code",
   "execution_count": 24,
   "id": "b3001640",
   "metadata": {},
   "outputs": [],
   "source": [
    "import pandas as pd"
   ]
  },
  {
   "cell_type": "code",
   "execution_count": 52,
   "id": "64e94e21",
   "metadata": {},
   "outputs": [],
   "source": [
    "replacers = {\n",
    "    'dm': 'direct message',\n",
    "    'thx': 'thanks',\n",
    "    'dming': 'direct messaging',\n",
    "    'dmed': 'direct messaged',\n",
    "    'plz': 'please',\n",
    "    'pls': 'please',\n",
    "    'u': 'you',\n",
    "    'asap': 'as soon as possible',\n",
    "    '...': '',\n",
    "    '. . .': '',\n",
    "    'r': 'are',\n",
    "    'what's': 'what is',\n",
    "    'what're': 'what are',\n",
    "    'who's': 'who is',\n",
    "    'who're': 'who are',\n",
    "    'where's': 'where is',\n",
    "    'where're': 'where are',\n",
    "    'when's': 'when is',\n",
    "    'when're': 'when are',\n",
    "    'how's': 'how is',\n",
    "    'how're': 'how are',\n",
    "    'i'm': 'i am',\n",
    "    'we're': 'we are',\n",
    "    'you're': 'you are',\n",
    "    'they're': 'they are',\n",
    "    'it's': 'it is',\n",
    "    'he's': 'he is',\n",
    "    'she's': 'she is',\n",
    "    'that's': 'that is',\n",
    "    'there's': 'there is',\n",
    "    'there're': 'there are',\n",
    "    'i've': 'i have',\n",
    "    'we've': 'we have',\n",
    "    'you've': 'you have',\n",
    "    'they've': 'they have',\n",
    "    'who've': 'who have',\n",
    "    'would've': 'would have',\n",
    "    'not've': 'not have',\n",
    "    'i'll': 'i will',\n",
    "    'we'll': 'we will',\n",
    "    'you'll': 'you will',\n",
    "    'he'll': 'he will',\n",
    "    'she'll': 'she will',\n",
    "    'it'll': 'it will',\n",
    "    'they'll': 'they will',\n",
    "    'isn't': 'is not',\n",
    "    'wasn't': 'was not',\n",
    "    'aren't': 'are not',\n",
    "    'weren't': 'were not',\n",
    "    'can't': 'can not',\n",
    "    'couldn't': 'could not',\n",
    "    'don't': 'do not',\n",
    "    'didn't': 'did not',\n",
    "    'shouldn't': 'should not',\n",
    "    'wouldn't': 'would not',\n",
    "    'doesn't': 'does not',\n",
    "    'haven't': 'have not',\n",
    "    'hasn't': 'has not',\n",
    "    'hadn't': 'had not',\n",
    "    'won't': 'will not',\n",
    "    '\\s+': ' ',\n",
    "    }\n"
   ]
  },
  {
   "cell_type": "code",
   "execution_count": 53,
   "id": "68591568",
   "metadata": {},
   "outputs": [],
   "source": [
    "text = [\"thx for the treat\",\"pls dm\", \"haven't told him yet\"]"
   ]
  },
  {
   "cell_type": "code",
   "execution_count": 54,
   "id": "aaeb926c",
   "metadata": {},
   "outputs": [],
   "source": [
    "df = pd.DataFrame(text, columns=['text'])"
   ]
  },
  {
   "cell_type": "code",
   "execution_count": 55,
   "id": "e029c8ee",
   "metadata": {},
   "outputs": [
    {
     "data": {
      "text/html": [
       "<div>\n",
       "<style scoped>\n",
       "    .dataframe tbody tr th:only-of-type {\n",
       "        vertical-align: middle;\n",
       "    }\n",
       "\n",
       "    .dataframe tbody tr th {\n",
       "        vertical-align: top;\n",
       "    }\n",
       "\n",
       "    .dataframe thead th {\n",
       "        text-align: right;\n",
       "    }\n",
       "</style>\n",
       "<table border=\"1\" class=\"dataframe\">\n",
       "  <thead>\n",
       "    <tr style=\"text-align: right;\">\n",
       "      <th></th>\n",
       "      <th>text</th>\n",
       "    </tr>\n",
       "  </thead>\n",
       "  <tbody>\n",
       "    <tr>\n",
       "      <th>0</th>\n",
       "      <td>thx for the treat</td>\n",
       "    </tr>\n",
       "    <tr>\n",
       "      <th>1</th>\n",
       "      <td>pls dm</td>\n",
       "    </tr>\n",
       "    <tr>\n",
       "      <th>2</th>\n",
       "      <td>haven't told him yet</td>\n",
       "    </tr>\n",
       "  </tbody>\n",
       "</table>\n",
       "</div>"
      ],
      "text/plain": [
       "                   text\n",
       "0     thx for the treat\n",
       "1                pls dm\n",
       "2  haven't told him yet"
      ]
     },
     "execution_count": 55,
     "metadata": {},
     "output_type": "execute_result"
    }
   ],
   "source": [
    "df"
   ]
  },
  {
   "cell_type": "code",
   "execution_count": 56,
   "id": "5d7685b8",
   "metadata": {},
   "outputs": [
    {
     "name": "stderr",
     "output_type": "stream",
     "text": [
      "C:\\Users\\nikhi\\AppData\\Local\\Temp\\ipykernel_14160\\3567519631.py:1: FutureWarning: The default value of regex will change from True to False in a future version.\n",
      "  df = df.text.str.replace('[...…]','').str.split().apply(lambda x: ' '.join([replacers.get(e, e) for e in x]))\n"
     ]
    }
   ],
   "source": [
    "df = df.text.str.replace('[...…]','').str.split().apply(lambda x: ' '.join([replacers.get(e, e) for e in x]))"
   ]
  },
  {
   "cell_type": "code",
   "execution_count": 58,
   "id": "60de310e",
   "metadata": {},
   "outputs": [
    {
     "data": {
      "text/plain": [
       "0     thanks for the treat\n",
       "1    please direct message\n",
       "2    have not told him yet\n",
       "Name: text, dtype: object"
      ]
     },
     "execution_count": 58,
     "metadata": {},
     "output_type": "execute_result"
    }
   ],
   "source": [
    "df"
   ]
  },
  {
   "cell_type": "code",
   "execution_count": 51,
   "id": "4cad18bc",
   "metadata": {},
   "outputs": [
    {
     "data": {
      "text/plain": [
       "0     thanks for the treat\n",
       "1       pls direct message\n",
       "2    have not told him yet\n",
       "Name: text, dtype: object"
      ]
     },
     "execution_count": 51,
     "metadata": {},
     "output_type": "execute_result"
    }
   ],
   "source": [
    "df"
   ]
  },
  {
   "cell_type": "code",
   "execution_count": null,
   "id": "ea4724fe",
   "metadata": {},
   "outputs": [],
   "source": []
  }
 ],
 "metadata": {
  "kernelspec": {
   "display_name": "Python 3 (ipykernel)",
   "language": "python",
   "name": "python3"
  },
  "language_info": {
   "codemirror_mode": {
    "name": "ipython",
    "version": 3
   },
   "file_extension": ".py",
   "mimetype": "text/x-python",
   "name": "python",
   "nbconvert_exporter": "python",
   "pygments_lexer": "ipython3",
   "version": "3.9.12"
  }
 },
 "nbformat": 4,
 "nbformat_minor": 5
}
