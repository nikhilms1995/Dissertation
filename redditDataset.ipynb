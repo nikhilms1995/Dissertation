{
 "cells": [
  {
   "cell_type": "code",
   "execution_count": 1,
   "id": "18f13f1f",
   "metadata": {},
   "outputs": [],
   "source": [
    "import pandas as pd"
   ]
  },
  {
   "cell_type": "code",
   "execution_count": 2,
   "id": "93fa5202",
   "metadata": {},
   "outputs": [],
   "source": [
    "df = pd.read_csv(\"reddit.csv\")"
   ]
  },
  {
   "cell_type": "code",
   "execution_count": 3,
   "id": "7946cadf",
   "metadata": {},
   "outputs": [],
   "source": [
    "replacers = {\n",
    "    'dm': 'direct message',\n",
    "    'thx': 'thanks',\n",
    "    'dming': 'direct messaging',\n",
    "    'dmed': 'direct messaged',\n",
    "    'plz': 'please',\n",
    "    'pls': 'please',\n",
    "    'u': 'you',\n",
    "    'asap': 'as soon as possible',\n",
    "    '...': '',\n",
    "    '. . .': '',\n",
    "    'r': 'are',\n",
    "    \"what's\": 'what is',\n",
    "    \"what're\": 'what are',\n",
    "    \"who's\": 'who is',\n",
    "    \"who're\": 'who are',\n",
    "    \"where's\": 'where is',\n",
    "    \"where're\": 'where are',\n",
    "    \"when's\": 'when is',\n",
    "    \"when're\": 'when are',\n",
    "    \"how's\": 'how is',\n",
    "    \"how're\": 'how are',\n",
    "    \"i'm\": 'i am',\n",
    "    \"we're\": 'we are',\n",
    "    \"you're\": 'you are',\n",
    "    \"they're\": 'they are',\n",
    "    \"it's\": 'it is',\n",
    "    \"he's\": 'he is',\n",
    "    \"she's\": 'she is',\n",
    "    \"that's\": 'that is',\n",
    "    \"there's\": 'there is',\n",
    "    \"there're\": 'there are',\n",
    "    \"i've\": 'i have',\n",
    "    \"we've\": 'we have',\n",
    "    \"you've\": 'you have',\n",
    "    \"they've\": 'they have',\n",
    "    \"who've\": 'who have',\n",
    "    \"would've\": 'would have',\n",
    "    \"not've\": 'not have',\n",
    "    \"i'll\": 'i will',\n",
    "    \"we'll\": 'we will',\n",
    "    \"you'll\": 'you will',\n",
    "    \"he'll\": 'he will',\n",
    "    \"she'll\": 'she will',\n",
    "    \"it'll\": 'it will',\n",
    "    \"they'll\": 'they will',\n",
    "    \"isn't\": 'is not',\n",
    "    \"wasn't\": 'was not',\n",
    "    \"aren't\": 'are not',\n",
    "    \"weren't\": 'were not',\n",
    "    \"can't\": 'can not',\n",
    "    \"couldn't\": 'could not',\n",
    "    \"don't\": 'do not',\n",
    "    \"didn't\": 'did not',\n",
    "    \"shouldn't\": 'should not',\n",
    "    \"wouldn't\": 'would not',\n",
    "    \"doesn't\": 'does not',\n",
    "    \"haven't\": 'have not',\n",
    "    \"hasn't\": 'has not',\n",
    "    \"hadn't\": 'had not',\n",
    "    \"won't\": 'will not',\n",
    "    \"you're\": 'you are',\n",
    "    '\\s+': ' ',\n",
    "    \"\\\\n\":'',\n",
    "    }"
   ]
  },
  {
   "cell_type": "code",
   "execution_count": 4,
   "id": "2dcd18a5",
   "metadata": {},
   "outputs": [
    {
     "data": {
      "text/plain": [
       "<bound method NDFrame.head of                                                    Title Political Lean  \\\n",
       "0      No matter who someone is, how they look like, ...        Liberal   \n",
       "1        Biden speech draws 38.2 million U.S. TV viewers        Liberal   \n",
       "2                                     State of the union        Liberal   \n",
       "3                  We Should Just Give Poor People Money        Liberal   \n",
       "4                                      Do it for the Dew        Liberal   \n",
       "...                                                  ...            ...   \n",
       "12849  Ron Paul’s Spirited Defense of WikiLeaks & Fre...   Conservative   \n",
       "12850  “Anarcho-capitalism, in my opinion, is a doctr...   Conservative   \n",
       "12851  Mises Wiki is a wiki project dedicated to the ...   Conservative   \n",
       "12852  Fireman Protection Monopoly - Is This Failed C...   Conservative   \n",
       "12853      Can this Wikipedia Article be Better Written?   Conservative   \n",
       "\n",
       "       Score      Id            Subreddit  \\\n",
       "0          1  t5fybt            socialism   \n",
       "1          6  t5fqdn            democrats   \n",
       "2          1  t5fj9a  DemocraticSocialism   \n",
       "3          7  t5f7n9      SocialDemocracy   \n",
       "4          6  t5es2c            democrats   \n",
       "...      ...     ...                  ...   \n",
       "12849      2   em7rm    anarchocapitalism   \n",
       "12850      2   ei98o    anarchocapitalism   \n",
       "12851      2   e6x22    anarchocapitalism   \n",
       "12852      2   e4vtd    anarchocapitalism   \n",
       "12853      2   e00j6    anarchocapitalism   \n",
       "\n",
       "                                                     URL  Num of Comments  \\\n",
       "0                        https://v.redd.it/ng5fyl7hp2l81                0   \n",
       "1      https://www.reuters.com/world/us/biden-speech-...                1   \n",
       "2      https://www.reddit.com/r/DemocraticSocialism/c...                1   \n",
       "3                           https://youtu.be/a80kRjpubG0                3   \n",
       "4                    https://i.redd.it/drmunn90f2l81.jpg                1   \n",
       "...                                                  ...              ...   \n",
       "12849  http://www.deathandtaxesmag.com/40485/ron-paul...                1   \n",
       "12850  http://www.pressaction.com/news/weblog/full_ar...                1   \n",
       "12851               http://wiki.mises.org/wiki/Main_Page                0   \n",
       "12852  http://www.csmonitor.com/Business/Mises-Econom...                0   \n",
       "12853  https://www.reddit.com/r/anarchocapitalism/com...                0   \n",
       "\n",
       "                                                    Text  Date Created  \n",
       "0                                                    NaN  1.646272e+09  \n",
       "1                                                    NaN  1.646271e+09  \n",
       "2      Who watched the state of the union last night ...  1.646270e+09  \n",
       "3                                                    NaN  1.646270e+09  \n",
       "4                                                    NaN  1.646268e+09  \n",
       "...                                                  ...           ...  \n",
       "12849                                                NaN  1.292421e+09  \n",
       "12850                                                NaN  1.291813e+09  \n",
       "12851                                                NaN  1.289910e+09  \n",
       "12852                                                NaN  1.289524e+09  \n",
       "12853  I go to the mises.org and listen to the writin...  1.288702e+09  \n",
       "\n",
       "[12854 rows x 9 columns]>"
      ]
     },
     "execution_count": 4,
     "metadata": {},
     "output_type": "execute_result"
    }
   ],
   "source": [
    "df.head"
   ]
  },
  {
   "cell_type": "code",
   "execution_count": 5,
   "id": "7257bd0e",
   "metadata": {},
   "outputs": [
    {
     "data": {
      "text/plain": [
       "0             Liberal\n",
       "1             Liberal\n",
       "2             Liberal\n",
       "3             Liberal\n",
       "4             Liberal\n",
       "             ...     \n",
       "12849    Conservative\n",
       "12850    Conservative\n",
       "12851    Conservative\n",
       "12852    Conservative\n",
       "12853    Conservative\n",
       "Name: Political Lean, Length: 12854, dtype: object"
      ]
     },
     "execution_count": 5,
     "metadata": {},
     "output_type": "execute_result"
    }
   ],
   "source": [
    "df[\"Political Lean\"]"
   ]
  },
  {
   "cell_type": "code",
   "execution_count": 6,
   "id": "24c3b3b7",
   "metadata": {},
   "outputs": [
    {
     "name": "stderr",
     "output_type": "stream",
     "text": [
      "C:\\Users\\nikhi\\AppData\\Local\\Temp\\ipykernel_20516\\2646974419.py:1: FutureWarning: The default value of regex will change from True to False in a future version.\n",
      "  li = df.Title.str.replace('[...…]','').str.split().apply(lambda x: ' '.join([replacers.get(e, e) for e in x]))\n"
     ]
    }
   ],
   "source": [
    "li = df.Title.str.replace('[...…]','').str.split().apply(lambda x: ' '.join([replacers.get(e, e) for e in x]))"
   ]
  },
  {
   "cell_type": "code",
   "execution_count": 7,
   "id": "9afd93d9",
   "metadata": {},
   "outputs": [],
   "source": [
    "newDf = pd.DataFrame()"
   ]
  },
  {
   "cell_type": "code",
   "execution_count": 8,
   "id": "de4eb8ab",
   "metadata": {},
   "outputs": [],
   "source": [
    "newDf[\"Title\"] = li"
   ]
  },
  {
   "cell_type": "code",
   "execution_count": 9,
   "id": "3b889c8b",
   "metadata": {},
   "outputs": [],
   "source": [
    "newDf[\"Lean\"] = df[\"Political Lean\"]"
   ]
  },
  {
   "cell_type": "code",
   "execution_count": 10,
   "id": "5a2958bd",
   "metadata": {},
   "outputs": [
    {
     "data": {
      "text/html": [
       "<div>\n",
       "<style scoped>\n",
       "    .dataframe tbody tr th:only-of-type {\n",
       "        vertical-align: middle;\n",
       "    }\n",
       "\n",
       "    .dataframe tbody tr th {\n",
       "        vertical-align: top;\n",
       "    }\n",
       "\n",
       "    .dataframe thead th {\n",
       "        text-align: right;\n",
       "    }\n",
       "</style>\n",
       "<table border=\"1\" class=\"dataframe\">\n",
       "  <thead>\n",
       "    <tr style=\"text-align: right;\">\n",
       "      <th></th>\n",
       "      <th>Title</th>\n",
       "      <th>Lean</th>\n",
       "    </tr>\n",
       "  </thead>\n",
       "  <tbody>\n",
       "    <tr>\n",
       "      <th>0</th>\n",
       "      <td>No matter who someone is, how they look like, ...</td>\n",
       "      <td>Liberal</td>\n",
       "    </tr>\n",
       "    <tr>\n",
       "      <th>1</th>\n",
       "      <td>Biden speech draws 382 million US TV viewers</td>\n",
       "      <td>Liberal</td>\n",
       "    </tr>\n",
       "    <tr>\n",
       "      <th>2</th>\n",
       "      <td>State of the union</td>\n",
       "      <td>Liberal</td>\n",
       "    </tr>\n",
       "    <tr>\n",
       "      <th>3</th>\n",
       "      <td>We Should Just Give Poor People Money</td>\n",
       "      <td>Liberal</td>\n",
       "    </tr>\n",
       "    <tr>\n",
       "      <th>4</th>\n",
       "      <td>Do it for the Dew</td>\n",
       "      <td>Liberal</td>\n",
       "    </tr>\n",
       "    <tr>\n",
       "      <th>...</th>\n",
       "      <td>...</td>\n",
       "      <td>...</td>\n",
       "    </tr>\n",
       "    <tr>\n",
       "      <th>12849</th>\n",
       "      <td>Ron Paul’s Spirited Defense of WikiLeaks &amp; Fre...</td>\n",
       "      <td>Conservative</td>\n",
       "    </tr>\n",
       "    <tr>\n",
       "      <th>12850</th>\n",
       "      <td>“Anarcho-capitalism, in my opinion, is a doctr...</td>\n",
       "      <td>Conservative</td>\n",
       "    </tr>\n",
       "    <tr>\n",
       "      <th>12851</th>\n",
       "      <td>Mises Wiki is a wiki project dedicated to the ...</td>\n",
       "      <td>Conservative</td>\n",
       "    </tr>\n",
       "    <tr>\n",
       "      <th>12852</th>\n",
       "      <td>Fireman Protection Monopoly - Is This Failed C...</td>\n",
       "      <td>Conservative</td>\n",
       "    </tr>\n",
       "    <tr>\n",
       "      <th>12853</th>\n",
       "      <td>Can this Wikipedia Article be Better Written?</td>\n",
       "      <td>Conservative</td>\n",
       "    </tr>\n",
       "  </tbody>\n",
       "</table>\n",
       "<p>12854 rows × 2 columns</p>\n",
       "</div>"
      ],
      "text/plain": [
       "                                                   Title          Lean\n",
       "0      No matter who someone is, how they look like, ...       Liberal\n",
       "1           Biden speech draws 382 million US TV viewers       Liberal\n",
       "2                                     State of the union       Liberal\n",
       "3                  We Should Just Give Poor People Money       Liberal\n",
       "4                                      Do it for the Dew       Liberal\n",
       "...                                                  ...           ...\n",
       "12849  Ron Paul’s Spirited Defense of WikiLeaks & Fre...  Conservative\n",
       "12850  “Anarcho-capitalism, in my opinion, is a doctr...  Conservative\n",
       "12851  Mises Wiki is a wiki project dedicated to the ...  Conservative\n",
       "12852  Fireman Protection Monopoly - Is This Failed C...  Conservative\n",
       "12853      Can this Wikipedia Article be Better Written?  Conservative\n",
       "\n",
       "[12854 rows x 2 columns]"
      ]
     },
     "execution_count": 10,
     "metadata": {},
     "output_type": "execute_result"
    }
   ],
   "source": [
    "newDf"
   ]
  },
  {
   "cell_type": "code",
   "execution_count": 11,
   "id": "f23d4f90",
   "metadata": {},
   "outputs": [],
   "source": [
    "from textblob import TextBlob\n",
    "from wordcloud import WordCloud\n",
    "import matplotlib.pyplot as plt\n",
    "plt.style.use('fivethirtyeight')\n",
    "\n",
    "def getPolarity(text):\n",
    "   return  TextBlob(text).sentiment.polarity\n",
    "\n",
    "def getSubjectivity(text):\n",
    "   return TextBlob(text).sentiment.subjectivity\n",
    "\n",
    "newDf['Subjectivity'] = df['Title'].apply(getSubjectivity)\n",
    "newDf['Polarity'] = df['Title'].apply(getPolarity)"
   ]
  },
  {
   "cell_type": "code",
   "execution_count": 12,
   "id": "ca12dbf3",
   "metadata": {},
   "outputs": [
    {
     "data": {
      "text/html": [
       "<div>\n",
       "<style scoped>\n",
       "    .dataframe tbody tr th:only-of-type {\n",
       "        vertical-align: middle;\n",
       "    }\n",
       "\n",
       "    .dataframe tbody tr th {\n",
       "        vertical-align: top;\n",
       "    }\n",
       "\n",
       "    .dataframe thead th {\n",
       "        text-align: right;\n",
       "    }\n",
       "</style>\n",
       "<table border=\"1\" class=\"dataframe\">\n",
       "  <thead>\n",
       "    <tr style=\"text-align: right;\">\n",
       "      <th></th>\n",
       "      <th>Title</th>\n",
       "      <th>Lean</th>\n",
       "      <th>Subjectivity</th>\n",
       "      <th>Polarity</th>\n",
       "    </tr>\n",
       "  </thead>\n",
       "  <tbody>\n",
       "    <tr>\n",
       "      <th>0</th>\n",
       "      <td>No matter who someone is, how they look like, ...</td>\n",
       "      <td>Liberal</td>\n",
       "      <td>0.35</td>\n",
       "      <td>-0.05</td>\n",
       "    </tr>\n",
       "    <tr>\n",
       "      <th>1</th>\n",
       "      <td>Biden speech draws 382 million US TV viewers</td>\n",
       "      <td>Liberal</td>\n",
       "      <td>0.00</td>\n",
       "      <td>0.00</td>\n",
       "    </tr>\n",
       "    <tr>\n",
       "      <th>2</th>\n",
       "      <td>State of the union</td>\n",
       "      <td>Liberal</td>\n",
       "      <td>0.00</td>\n",
       "      <td>0.00</td>\n",
       "    </tr>\n",
       "    <tr>\n",
       "      <th>3</th>\n",
       "      <td>We Should Just Give Poor People Money</td>\n",
       "      <td>Liberal</td>\n",
       "      <td>0.60</td>\n",
       "      <td>-0.40</td>\n",
       "    </tr>\n",
       "    <tr>\n",
       "      <th>4</th>\n",
       "      <td>Do it for the Dew</td>\n",
       "      <td>Liberal</td>\n",
       "      <td>0.00</td>\n",
       "      <td>0.00</td>\n",
       "    </tr>\n",
       "    <tr>\n",
       "      <th>...</th>\n",
       "      <td>...</td>\n",
       "      <td>...</td>\n",
       "      <td>...</td>\n",
       "      <td>...</td>\n",
       "    </tr>\n",
       "    <tr>\n",
       "      <th>12849</th>\n",
       "      <td>Ron Paul’s Spirited Defense of WikiLeaks &amp; Fre...</td>\n",
       "      <td>Conservative</td>\n",
       "      <td>0.90</td>\n",
       "      <td>0.45</td>\n",
       "    </tr>\n",
       "    <tr>\n",
       "      <th>12850</th>\n",
       "      <td>“Anarcho-capitalism, in my opinion, is a doctr...</td>\n",
       "      <td>Conservative</td>\n",
       "      <td>0.10</td>\n",
       "      <td>-0.10</td>\n",
       "    </tr>\n",
       "    <tr>\n",
       "      <th>12851</th>\n",
       "      <td>Mises Wiki is a wiki project dedicated to the ...</td>\n",
       "      <td>Conservative</td>\n",
       "      <td>0.40</td>\n",
       "      <td>0.00</td>\n",
       "    </tr>\n",
       "    <tr>\n",
       "      <th>12852</th>\n",
       "      <td>Fireman Protection Monopoly - Is This Failed C...</td>\n",
       "      <td>Conservative</td>\n",
       "      <td>0.30</td>\n",
       "      <td>-0.50</td>\n",
       "    </tr>\n",
       "    <tr>\n",
       "      <th>12853</th>\n",
       "      <td>Can this Wikipedia Article be Better Written?</td>\n",
       "      <td>Conservative</td>\n",
       "      <td>0.50</td>\n",
       "      <td>0.50</td>\n",
       "    </tr>\n",
       "  </tbody>\n",
       "</table>\n",
       "<p>12854 rows × 4 columns</p>\n",
       "</div>"
      ],
      "text/plain": [
       "                                                   Title          Lean  \\\n",
       "0      No matter who someone is, how they look like, ...       Liberal   \n",
       "1           Biden speech draws 382 million US TV viewers       Liberal   \n",
       "2                                     State of the union       Liberal   \n",
       "3                  We Should Just Give Poor People Money       Liberal   \n",
       "4                                      Do it for the Dew       Liberal   \n",
       "...                                                  ...           ...   \n",
       "12849  Ron Paul’s Spirited Defense of WikiLeaks & Fre...  Conservative   \n",
       "12850  “Anarcho-capitalism, in my opinion, is a doctr...  Conservative   \n",
       "12851  Mises Wiki is a wiki project dedicated to the ...  Conservative   \n",
       "12852  Fireman Protection Monopoly - Is This Failed C...  Conservative   \n",
       "12853      Can this Wikipedia Article be Better Written?  Conservative   \n",
       "\n",
       "       Subjectivity  Polarity  \n",
       "0              0.35     -0.05  \n",
       "1              0.00      0.00  \n",
       "2              0.00      0.00  \n",
       "3              0.60     -0.40  \n",
       "4              0.00      0.00  \n",
       "...             ...       ...  \n",
       "12849          0.90      0.45  \n",
       "12850          0.10     -0.10  \n",
       "12851          0.40      0.00  \n",
       "12852          0.30     -0.50  \n",
       "12853          0.50      0.50  \n",
       "\n",
       "[12854 rows x 4 columns]"
      ]
     },
     "execution_count": 12,
     "metadata": {},
     "output_type": "execute_result"
    }
   ],
   "source": [
    "newDf"
   ]
  },
  {
   "cell_type": "code",
   "execution_count": 13,
   "id": "43f32428",
   "metadata": {},
   "outputs": [
    {
     "data": {
      "image/png": "[encoded data removed]",
      "text/plain": [
       "<Figure size 432x288 with 1 Axes>"
      ]
     },
     "metadata": {},
     "output_type": "display_data"
    }
   ],
   "source": [
    "allWords = ' '.join([twts for twts in newDf[\"Title\"]])\n",
    "wordCloud = WordCloud(width=500, height=300, random_state=21, max_font_size=110).generate(allWords)\n",
    "\n",
    "\n",
    "plt.imshow(wordCloud, interpolation=\"bilinear\")\n",
    "plt.axis('off')\n",
    "plt.show()"
   ]
  },
  {
   "cell_type": "code",
   "execution_count": 14,
   "id": "dc8dae23",
   "metadata": {},
   "outputs": [
    {
     "data": {
      "text/html": [
       "<div>\n",
       "<style scoped>\n",
       "    .dataframe tbody tr th:only-of-type {\n",
       "        vertical-align: middle;\n",
       "    }\n",
       "\n",
       "    .dataframe tbody tr th {\n",
       "        vertical-align: top;\n",
       "    }\n",
       "\n",
       "    .dataframe thead th {\n",
       "        text-align: right;\n",
       "    }\n",
       "</style>\n",
       "<table border=\"1\" class=\"dataframe\">\n",
       "  <thead>\n",
       "    <tr style=\"text-align: right;\">\n",
       "      <th></th>\n",
       "      <th>Title</th>\n",
       "      <th>Lean</th>\n",
       "      <th>Subjectivity</th>\n",
       "      <th>Polarity</th>\n",
       "      <th>Analysis</th>\n",
       "    </tr>\n",
       "  </thead>\n",
       "  <tbody>\n",
       "    <tr>\n",
       "      <th>0</th>\n",
       "      <td>No matter who someone is, how they look like, ...</td>\n",
       "      <td>Liberal</td>\n",
       "      <td>0.35</td>\n",
       "      <td>-0.05</td>\n",
       "      <td>Negative</td>\n",
       "    </tr>\n",
       "    <tr>\n",
       "      <th>1</th>\n",
       "      <td>Biden speech draws 382 million US TV viewers</td>\n",
       "      <td>Liberal</td>\n",
       "      <td>0.00</td>\n",
       "      <td>0.00</td>\n",
       "      <td>Neutral</td>\n",
       "    </tr>\n",
       "    <tr>\n",
       "      <th>2</th>\n",
       "      <td>State of the union</td>\n",
       "      <td>Liberal</td>\n",
       "      <td>0.00</td>\n",
       "      <td>0.00</td>\n",
       "      <td>Neutral</td>\n",
       "    </tr>\n",
       "    <tr>\n",
       "      <th>3</th>\n",
       "      <td>We Should Just Give Poor People Money</td>\n",
       "      <td>Liberal</td>\n",
       "      <td>0.60</td>\n",
       "      <td>-0.40</td>\n",
       "      <td>Negative</td>\n",
       "    </tr>\n",
       "    <tr>\n",
       "      <th>4</th>\n",
       "      <td>Do it for the Dew</td>\n",
       "      <td>Liberal</td>\n",
       "      <td>0.00</td>\n",
       "      <td>0.00</td>\n",
       "      <td>Neutral</td>\n",
       "    </tr>\n",
       "    <tr>\n",
       "      <th>...</th>\n",
       "      <td>...</td>\n",
       "      <td>...</td>\n",
       "      <td>...</td>\n",
       "      <td>...</td>\n",
       "      <td>...</td>\n",
       "    </tr>\n",
       "    <tr>\n",
       "      <th>12849</th>\n",
       "      <td>Ron Paul’s Spirited Defense of WikiLeaks &amp; Fre...</td>\n",
       "      <td>Conservative</td>\n",
       "      <td>0.90</td>\n",
       "      <td>0.45</td>\n",
       "      <td>Positive</td>\n",
       "    </tr>\n",
       "    <tr>\n",
       "      <th>12850</th>\n",
       "      <td>“Anarcho-capitalism, in my opinion, is a doctr...</td>\n",
       "      <td>Conservative</td>\n",
       "      <td>0.10</td>\n",
       "      <td>-0.10</td>\n",
       "      <td>Negative</td>\n",
       "    </tr>\n",
       "    <tr>\n",
       "      <th>12851</th>\n",
       "      <td>Mises Wiki is a wiki project dedicated to the ...</td>\n",
       "      <td>Conservative</td>\n",
       "      <td>0.40</td>\n",
       "      <td>0.00</td>\n",
       "      <td>Neutral</td>\n",
       "    </tr>\n",
       "    <tr>\n",
       "      <th>12852</th>\n",
       "      <td>Fireman Protection Monopoly - Is This Failed C...</td>\n",
       "      <td>Conservative</td>\n",
       "      <td>0.30</td>\n",
       "      <td>-0.50</td>\n",
       "      <td>Negative</td>\n",
       "    </tr>\n",
       "    <tr>\n",
       "      <th>12853</th>\n",
       "      <td>Can this Wikipedia Article be Better Written?</td>\n",
       "      <td>Conservative</td>\n",
       "      <td>0.50</td>\n",
       "      <td>0.50</td>\n",
       "      <td>Positive</td>\n",
       "    </tr>\n",
       "  </tbody>\n",
       "</table>\n",
       "<p>12854 rows × 5 columns</p>\n",
       "</div>"
      ],
      "text/plain": [
       "                                                   Title          Lean  \\\n",
       "0      No matter who someone is, how they look like, ...       Liberal   \n",
       "1           Biden speech draws 382 million US TV viewers       Liberal   \n",
       "2                                     State of the union       Liberal   \n",
       "3                  We Should Just Give Poor People Money       Liberal   \n",
       "4                                      Do it for the Dew       Liberal   \n",
       "...                                                  ...           ...   \n",
       "12849  Ron Paul’s Spirited Defense of WikiLeaks & Fre...  Conservative   \n",
       "12850  “Anarcho-capitalism, in my opinion, is a doctr...  Conservative   \n",
       "12851  Mises Wiki is a wiki project dedicated to the ...  Conservative   \n",
       "12852  Fireman Protection Monopoly - Is This Failed C...  Conservative   \n",
       "12853      Can this Wikipedia Article be Better Written?  Conservative   \n",
       "\n",
       "       Subjectivity  Polarity  Analysis  \n",
       "0              0.35     -0.05  Negative  \n",
       "1              0.00      0.00   Neutral  \n",
       "2              0.00      0.00   Neutral  \n",
       "3              0.60     -0.40  Negative  \n",
       "4              0.00      0.00   Neutral  \n",
       "...             ...       ...       ...  \n",
       "12849          0.90      0.45  Positive  \n",
       "12850          0.10     -0.10  Negative  \n",
       "12851          0.40      0.00   Neutral  \n",
       "12852          0.30     -0.50  Negative  \n",
       "12853          0.50      0.50  Positive  \n",
       "\n",
       "[12854 rows x 5 columns]"
      ]
     },
     "execution_count": 14,
     "metadata": {},
     "output_type": "execute_result"
    }
   ],
   "source": [
    "def getAnalysis(score):\n",
    "    if score < 0:\n",
    "      return 'Negative'\n",
    "    elif score == 0:\n",
    "      return 'Neutral'\n",
    "    else:\n",
    "      return 'Positive'\n",
    "newDf['Analysis'] = newDf['Polarity'].apply(getAnalysis)\n",
    "# Show the dataframe\n",
    "newDf"
   ]
  },
  {
   "cell_type": "markdown",
   "id": "e3e9e51a",
   "metadata": {},
   "source": [
    "# Plotting \n",
    "plt.figure(figsize=(8,6)) \n",
    "for i in range(0, df.shape[0]):\n",
    "  plt.scatter(newDf[\"Polarity\"][i], newDf[\"Subjectivity\"][i], color='Blue') \n",
    "# plt.scatter(x,y,color)   \n",
    "plt.title('Sentiment Analysis') \n",
    "plt.xlabel('Polarity') \n",
    "plt.ylabel('Subjectivity') \n",
    "plt.show()"
   ]
  },
  {
   "cell_type": "code",
   "execution_count": 16,
   "id": "c26d61b0",
   "metadata": {},
   "outputs": [
    {
     "data": {
      "text/plain": [
       "Liberal         8319\n",
       "Conservative    4535\n",
       "Name: Lean, dtype: int64"
      ]
     },
     "execution_count": 16,
     "metadata": {},
     "output_type": "execute_result"
    }
   ],
   "source": [
    "newDf[\"Lean\"].value_counts()"
   ]
  },
  {
   "cell_type": "code",
   "execution_count": 17,
   "id": "a78bdffa",
   "metadata": {},
   "outputs": [
    {
     "data": {
      "text/html": [
       "<div>\n",
       "<style scoped>\n",
       "    .dataframe tbody tr th:only-of-type {\n",
       "        vertical-align: middle;\n",
       "    }\n",
       "\n",
       "    .dataframe tbody tr th {\n",
       "        vertical-align: top;\n",
       "    }\n",
       "\n",
       "    .dataframe thead th {\n",
       "        text-align: right;\n",
       "    }\n",
       "</style>\n",
       "<table border=\"1\" class=\"dataframe\">\n",
       "  <thead>\n",
       "    <tr style=\"text-align: right;\">\n",
       "      <th></th>\n",
       "      <th>Title</th>\n",
       "      <th>Lean</th>\n",
       "      <th>Subjectivity</th>\n",
       "      <th>Polarity</th>\n",
       "      <th>Analysis</th>\n",
       "    </tr>\n",
       "  </thead>\n",
       "  <tbody>\n",
       "    <tr>\n",
       "      <th>0</th>\n",
       "      <td>No matter who someone is, how they look like, ...</td>\n",
       "      <td>Liberal</td>\n",
       "      <td>0.350000</td>\n",
       "      <td>-0.05</td>\n",
       "      <td>Negative</td>\n",
       "    </tr>\n",
       "    <tr>\n",
       "      <th>3</th>\n",
       "      <td>We Should Just Give Poor People Money</td>\n",
       "      <td>Liberal</td>\n",
       "      <td>0.600000</td>\n",
       "      <td>-0.40</td>\n",
       "      <td>Negative</td>\n",
       "    </tr>\n",
       "    <tr>\n",
       "      <th>6</th>\n",
       "      <td>3 House Republicans voted against a bipartisan...</td>\n",
       "      <td>Liberal</td>\n",
       "      <td>0.800000</td>\n",
       "      <td>0.40</td>\n",
       "      <td>Positive</td>\n",
       "    </tr>\n",
       "    <tr>\n",
       "      <th>7</th>\n",
       "      <td>If you are bombing civilian targets, you are t...</td>\n",
       "      <td>Liberal</td>\n",
       "      <td>0.666667</td>\n",
       "      <td>-0.70</td>\n",
       "      <td>Negative</td>\n",
       "    </tr>\n",
       "    <tr>\n",
       "      <th>8</th>\n",
       "      <td>Every city have to government their resources ...</td>\n",
       "      <td>Liberal</td>\n",
       "      <td>0.200000</td>\n",
       "      <td>0.50</td>\n",
       "      <td>Positive</td>\n",
       "    </tr>\n",
       "    <tr>\n",
       "      <th>...</th>\n",
       "      <td>...</td>\n",
       "      <td>...</td>\n",
       "      <td>...</td>\n",
       "      <td>...</td>\n",
       "      <td>...</td>\n",
       "    </tr>\n",
       "    <tr>\n",
       "      <th>12847</th>\n",
       "      <td>What kind of `Anarchist` is Julian Assange?</td>\n",
       "      <td>Conservative</td>\n",
       "      <td>0.900000</td>\n",
       "      <td>0.60</td>\n",
       "      <td>Positive</td>\n",
       "    </tr>\n",
       "    <tr>\n",
       "      <th>12849</th>\n",
       "      <td>Ron Paul’s Spirited Defense of WikiLeaks &amp; Fre...</td>\n",
       "      <td>Conservative</td>\n",
       "      <td>0.900000</td>\n",
       "      <td>0.45</td>\n",
       "      <td>Positive</td>\n",
       "    </tr>\n",
       "    <tr>\n",
       "      <th>12850</th>\n",
       "      <td>“Anarcho-capitalism, in my opinion, is a doctr...</td>\n",
       "      <td>Conservative</td>\n",
       "      <td>0.100000</td>\n",
       "      <td>-0.10</td>\n",
       "      <td>Negative</td>\n",
       "    </tr>\n",
       "    <tr>\n",
       "      <th>12852</th>\n",
       "      <td>Fireman Protection Monopoly - Is This Failed C...</td>\n",
       "      <td>Conservative</td>\n",
       "      <td>0.300000</td>\n",
       "      <td>-0.50</td>\n",
       "      <td>Negative</td>\n",
       "    </tr>\n",
       "    <tr>\n",
       "      <th>12853</th>\n",
       "      <td>Can this Wikipedia Article be Better Written?</td>\n",
       "      <td>Conservative</td>\n",
       "      <td>0.500000</td>\n",
       "      <td>0.50</td>\n",
       "      <td>Positive</td>\n",
       "    </tr>\n",
       "  </tbody>\n",
       "</table>\n",
       "<p>6016 rows × 5 columns</p>\n",
       "</div>"
      ],
      "text/plain": [
       "                                                   Title          Lean  \\\n",
       "0      No matter who someone is, how they look like, ...       Liberal   \n",
       "3                  We Should Just Give Poor People Money       Liberal   \n",
       "6      3 House Republicans voted against a bipartisan...       Liberal   \n",
       "7      If you are bombing civilian targets, you are t...       Liberal   \n",
       "8      Every city have to government their resources ...       Liberal   \n",
       "...                                                  ...           ...   \n",
       "12847        What kind of `Anarchist` is Julian Assange?  Conservative   \n",
       "12849  Ron Paul’s Spirited Defense of WikiLeaks & Fre...  Conservative   \n",
       "12850  “Anarcho-capitalism, in my opinion, is a doctr...  Conservative   \n",
       "12852  Fireman Protection Monopoly - Is This Failed C...  Conservative   \n",
       "12853      Can this Wikipedia Article be Better Written?  Conservative   \n",
       "\n",
       "       Subjectivity  Polarity  Analysis  \n",
       "0          0.350000     -0.05  Negative  \n",
       "3          0.600000     -0.40  Negative  \n",
       "6          0.800000      0.40  Positive  \n",
       "7          0.666667     -0.70  Negative  \n",
       "8          0.200000      0.50  Positive  \n",
       "...             ...       ...       ...  \n",
       "12847      0.900000      0.60  Positive  \n",
       "12849      0.900000      0.45  Positive  \n",
       "12850      0.100000     -0.10  Negative  \n",
       "12852      0.300000     -0.50  Negative  \n",
       "12853      0.500000      0.50  Positive  \n",
       "\n",
       "[6016 rows x 5 columns]"
      ]
     },
     "execution_count": 17,
     "metadata": {},
     "output_type": "execute_result"
    }
   ],
   "source": [
    "newDf [newDf[\"Analysis\"] != \"Neutral\"]"
   ]
  },
  {
   "cell_type": "code",
   "execution_count": 18,
   "id": "e6a17d88",
   "metadata": {},
   "outputs": [],
   "source": [
    "df = newDf [newDf[\"Analysis\"] != \"Neutral\"]"
   ]
  },
  {
   "cell_type": "code",
   "execution_count": 21,
   "id": "4a786b61",
   "metadata": {},
   "outputs": [
    {
     "data": {
      "text/plain": [
       "Positive    3824\n",
       "Negative    2192\n",
       "Name: Analysis, dtype: int64"
      ]
     },
     "execution_count": 21,
     "metadata": {},
     "output_type": "execute_result"
    }
   ],
   "source": [
    "df[\"Analysis\"].value_counts()"
   ]
  },
  {
   "cell_type": "code",
   "execution_count": 22,
   "id": "5299d7b4",
   "metadata": {},
   "outputs": [],
   "source": [
    "liberal = pd.get_dummies(df[\"Lean\"],drop_first = True)"
   ]
  },
  {
   "cell_type": "code",
   "execution_count": 23,
   "id": "d1b55349",
   "metadata": {},
   "outputs": [
    {
     "data": {
      "text/html": [
       "<div>\n",
       "<style scoped>\n",
       "    .dataframe tbody tr th:only-of-type {\n",
       "        vertical-align: middle;\n",
       "    }\n",
       "\n",
       "    .dataframe tbody tr th {\n",
       "        vertical-align: top;\n",
       "    }\n",
       "\n",
       "    .dataframe thead th {\n",
       "        text-align: right;\n",
       "    }\n",
       "</style>\n",
       "<table border=\"1\" class=\"dataframe\">\n",
       "  <thead>\n",
       "    <tr style=\"text-align: right;\">\n",
       "      <th></th>\n",
       "      <th>Liberal</th>\n",
       "    </tr>\n",
       "  </thead>\n",
       "  <tbody>\n",
       "    <tr>\n",
       "      <th>0</th>\n",
       "      <td>1</td>\n",
       "    </tr>\n",
       "    <tr>\n",
       "      <th>3</th>\n",
       "      <td>1</td>\n",
       "    </tr>\n",
       "    <tr>\n",
       "      <th>6</th>\n",
       "      <td>1</td>\n",
       "    </tr>\n",
       "    <tr>\n",
       "      <th>7</th>\n",
       "      <td>1</td>\n",
       "    </tr>\n",
       "    <tr>\n",
       "      <th>8</th>\n",
       "      <td>1</td>\n",
       "    </tr>\n",
       "    <tr>\n",
       "      <th>...</th>\n",
       "      <td>...</td>\n",
       "    </tr>\n",
       "    <tr>\n",
       "      <th>12847</th>\n",
       "      <td>0</td>\n",
       "    </tr>\n",
       "    <tr>\n",
       "      <th>12849</th>\n",
       "      <td>0</td>\n",
       "    </tr>\n",
       "    <tr>\n",
       "      <th>12850</th>\n",
       "      <td>0</td>\n",
       "    </tr>\n",
       "    <tr>\n",
       "      <th>12852</th>\n",
       "      <td>0</td>\n",
       "    </tr>\n",
       "    <tr>\n",
       "      <th>12853</th>\n",
       "      <td>0</td>\n",
       "    </tr>\n",
       "  </tbody>\n",
       "</table>\n",
       "<p>6016 rows × 1 columns</p>\n",
       "</div>"
      ],
      "text/plain": [
       "       Liberal\n",
       "0            1\n",
       "3            1\n",
       "6            1\n",
       "7            1\n",
       "8            1\n",
       "...        ...\n",
       "12847        0\n",
       "12849        0\n",
       "12850        0\n",
       "12852        0\n",
       "12853        0\n",
       "\n",
       "[6016 rows x 1 columns]"
      ]
     },
     "execution_count": 23,
     "metadata": {},
     "output_type": "execute_result"
    }
   ],
   "source": [
    "liberal"
   ]
  },
  {
   "cell_type": "code",
   "execution_count": 24,
   "id": "474bab39",
   "metadata": {},
   "outputs": [
    {
     "name": "stderr",
     "output_type": "stream",
     "text": [
      "C:\\Users\\nikhi\\AppData\\Local\\Temp\\ipykernel_20516\\1394264237.py:1: SettingWithCopyWarning: \n",
      "A value is trying to be set on a copy of a slice from a DataFrame.\n",
      "Try using .loc[row_indexer,col_indexer] = value instead\n",
      "\n",
      "See the caveats in the documentation: https://pandas.pydata.org/pandas-docs/stable/user_guide/indexing.html#returning-a-view-versus-a-copy\n",
      "  df[\"Liberal\"] = liberal\n"
     ]
    }
   ],
   "source": [
    "df[\"Liberal\"] = liberal"
   ]
  },
  {
   "cell_type": "code",
   "execution_count": 25,
   "id": "089842b8",
   "metadata": {},
   "outputs": [
    {
     "data": {
      "text/html": [
       "<div>\n",
       "<style scoped>\n",
       "    .dataframe tbody tr th:only-of-type {\n",
       "        vertical-align: middle;\n",
       "    }\n",
       "\n",
       "    .dataframe tbody tr th {\n",
       "        vertical-align: top;\n",
       "    }\n",
       "\n",
       "    .dataframe thead th {\n",
       "        text-align: right;\n",
       "    }\n",
       "</style>\n",
       "<table border=\"1\" class=\"dataframe\">\n",
       "  <thead>\n",
       "    <tr style=\"text-align: right;\">\n",
       "      <th></th>\n",
       "      <th>Title</th>\n",
       "      <th>Lean</th>\n",
       "      <th>Subjectivity</th>\n",
       "      <th>Polarity</th>\n",
       "      <th>Analysis</th>\n",
       "      <th>Liberal</th>\n",
       "    </tr>\n",
       "  </thead>\n",
       "  <tbody>\n",
       "    <tr>\n",
       "      <th>0</th>\n",
       "      <td>No matter who someone is, how they look like, ...</td>\n",
       "      <td>Liberal</td>\n",
       "      <td>0.350000</td>\n",
       "      <td>-0.05</td>\n",
       "      <td>Negative</td>\n",
       "      <td>1</td>\n",
       "    </tr>\n",
       "    <tr>\n",
       "      <th>3</th>\n",
       "      <td>We Should Just Give Poor People Money</td>\n",
       "      <td>Liberal</td>\n",
       "      <td>0.600000</td>\n",
       "      <td>-0.40</td>\n",
       "      <td>Negative</td>\n",
       "      <td>1</td>\n",
       "    </tr>\n",
       "    <tr>\n",
       "      <th>6</th>\n",
       "      <td>3 House Republicans voted against a bipartisan...</td>\n",
       "      <td>Liberal</td>\n",
       "      <td>0.800000</td>\n",
       "      <td>0.40</td>\n",
       "      <td>Positive</td>\n",
       "      <td>1</td>\n",
       "    </tr>\n",
       "    <tr>\n",
       "      <th>7</th>\n",
       "      <td>If you are bombing civilian targets, you are t...</td>\n",
       "      <td>Liberal</td>\n",
       "      <td>0.666667</td>\n",
       "      <td>-0.70</td>\n",
       "      <td>Negative</td>\n",
       "      <td>1</td>\n",
       "    </tr>\n",
       "    <tr>\n",
       "      <th>8</th>\n",
       "      <td>Every city have to government their resources ...</td>\n",
       "      <td>Liberal</td>\n",
       "      <td>0.200000</td>\n",
       "      <td>0.50</td>\n",
       "      <td>Positive</td>\n",
       "      <td>1</td>\n",
       "    </tr>\n",
       "    <tr>\n",
       "      <th>...</th>\n",
       "      <td>...</td>\n",
       "      <td>...</td>\n",
       "      <td>...</td>\n",
       "      <td>...</td>\n",
       "      <td>...</td>\n",
       "      <td>...</td>\n",
       "    </tr>\n",
       "    <tr>\n",
       "      <th>12847</th>\n",
       "      <td>What kind of `Anarchist` is Julian Assange?</td>\n",
       "      <td>Conservative</td>\n",
       "      <td>0.900000</td>\n",
       "      <td>0.60</td>\n",
       "      <td>Positive</td>\n",
       "      <td>0</td>\n",
       "    </tr>\n",
       "    <tr>\n",
       "      <th>12849</th>\n",
       "      <td>Ron Paul’s Spirited Defense of WikiLeaks &amp; Fre...</td>\n",
       "      <td>Conservative</td>\n",
       "      <td>0.900000</td>\n",
       "      <td>0.45</td>\n",
       "      <td>Positive</td>\n",
       "      <td>0</td>\n",
       "    </tr>\n",
       "    <tr>\n",
       "      <th>12850</th>\n",
       "      <td>“Anarcho-capitalism, in my opinion, is a doctr...</td>\n",
       "      <td>Conservative</td>\n",
       "      <td>0.100000</td>\n",
       "      <td>-0.10</td>\n",
       "      <td>Negative</td>\n",
       "      <td>0</td>\n",
       "    </tr>\n",
       "    <tr>\n",
       "      <th>12852</th>\n",
       "      <td>Fireman Protection Monopoly - Is This Failed C...</td>\n",
       "      <td>Conservative</td>\n",
       "      <td>0.300000</td>\n",
       "      <td>-0.50</td>\n",
       "      <td>Negative</td>\n",
       "      <td>0</td>\n",
       "    </tr>\n",
       "    <tr>\n",
       "      <th>12853</th>\n",
       "      <td>Can this Wikipedia Article be Better Written?</td>\n",
       "      <td>Conservative</td>\n",
       "      <td>0.500000</td>\n",
       "      <td>0.50</td>\n",
       "      <td>Positive</td>\n",
       "      <td>0</td>\n",
       "    </tr>\n",
       "  </tbody>\n",
       "</table>\n",
       "<p>6016 rows × 6 columns</p>\n",
       "</div>"
      ],
      "text/plain": [
       "                                                   Title          Lean  \\\n",
       "0      No matter who someone is, how they look like, ...       Liberal   \n",
       "3                  We Should Just Give Poor People Money       Liberal   \n",
       "6      3 House Republicans voted against a bipartisan...       Liberal   \n",
       "7      If you are bombing civilian targets, you are t...       Liberal   \n",
       "8      Every city have to government their resources ...       Liberal   \n",
       "...                                                  ...           ...   \n",
       "12847        What kind of `Anarchist` is Julian Assange?  Conservative   \n",
       "12849  Ron Paul’s Spirited Defense of WikiLeaks & Fre...  Conservative   \n",
       "12850  “Anarcho-capitalism, in my opinion, is a doctr...  Conservative   \n",
       "12852  Fireman Protection Monopoly - Is This Failed C...  Conservative   \n",
       "12853      Can this Wikipedia Article be Better Written?  Conservative   \n",
       "\n",
       "       Subjectivity  Polarity  Analysis  Liberal  \n",
       "0          0.350000     -0.05  Negative        1  \n",
       "3          0.600000     -0.40  Negative        1  \n",
       "6          0.800000      0.40  Positive        1  \n",
       "7          0.666667     -0.70  Negative        1  \n",
       "8          0.200000      0.50  Positive        1  \n",
       "...             ...       ...       ...      ...  \n",
       "12847      0.900000      0.60  Positive        0  \n",
       "12849      0.900000      0.45  Positive        0  \n",
       "12850      0.100000     -0.10  Negative        0  \n",
       "12852      0.300000     -0.50  Negative        0  \n",
       "12853      0.500000      0.50  Positive        0  \n",
       "\n",
       "[6016 rows x 6 columns]"
      ]
     },
     "execution_count": 25,
     "metadata": {},
     "output_type": "execute_result"
    }
   ],
   "source": [
    "df"
   ]
  },
  {
   "cell_type": "code",
   "execution_count": 26,
   "id": "1eb5d53b",
   "metadata": {},
   "outputs": [],
   "source": [
    "from sklearn.model_selection import train_test_split"
   ]
  },
  {
   "cell_type": "code",
   "execution_count": 27,
   "id": "751e469d",
   "metadata": {},
   "outputs": [],
   "source": [
    "x_train, x_test, y_train, y_test = train_test_split(df[\"Title\"], df[\"Liberal\"], test_size = 0.3, random_state = 42)"
   ]
  },
  {
   "cell_type": "code",
   "execution_count": 46,
   "id": "dd26deb2",
   "metadata": {},
   "outputs": [],
   "source": [
    "from sklearn.feature_extraction.text import CountVectorizer\n",
    "vect = CountVectorizer(min_df = 5, ngram_range=(1,1)).fit(x_train)"
   ]
  },
  {
   "cell_type": "code",
   "execution_count": 47,
   "id": "ca8748c3",
   "metadata": {},
   "outputs": [
    {
     "data": {
      "text/plain": [
       "1958"
      ]
     },
     "execution_count": 47,
     "metadata": {},
     "output_type": "execute_result"
    }
   ],
   "source": [
    "len(vect.get_feature_names())"
   ]
  },
  {
   "cell_type": "code",
   "execution_count": 48,
   "id": "dc086e03",
   "metadata": {},
   "outputs": [],
   "source": [
    "x_train_vectorized = vect.transform(x_train)"
   ]
  },
  {
   "cell_type": "code",
   "execution_count": 49,
   "id": "c1e573d6",
   "metadata": {},
   "outputs": [
    {
     "data": {
      "text/plain": [
       "LogisticRegression()"
      ]
     },
     "execution_count": 49,
     "metadata": {},
     "output_type": "execute_result"
    }
   ],
   "source": [
    "from sklearn.linear_model import LogisticRegression\n",
    "model = LogisticRegression()\n",
    "model.fit(x_train_vectorized, y_train)"
   ]
  },
  {
   "cell_type": "code",
   "execution_count": 50,
   "id": "1843e003",
   "metadata": {},
   "outputs": [],
   "source": [
    "pred = model.predict(vect.transform(x_test))"
   ]
  },
  {
   "cell_type": "code",
   "execution_count": 51,
   "id": "bb3f47db",
   "metadata": {},
   "outputs": [
    {
     "name": "stdout",
     "output_type": "stream",
     "text": [
      "[1 1 0 ... 1 1 1]\n"
     ]
    }
   ],
   "source": [
    "print(pred)"
   ]
  },
  {
   "cell_type": "code",
   "execution_count": 52,
   "id": "05867f7c",
   "metadata": {},
   "outputs": [
    {
     "name": "stdout",
     "output_type": "stream",
     "text": [
      "0.6915649318198044\n"
     ]
    }
   ],
   "source": [
    "from sklearn.metrics import roc_auc_score\n",
    "print(roc_auc_score(y_test,pred))"
   ]
  },
  {
   "cell_type": "code",
   "execution_count": 53,
   "id": "b58a28d5",
   "metadata": {},
   "outputs": [
    {
     "name": "stderr",
     "output_type": "stream",
     "text": [
      "C:\\Users\\nikhi\\Anaconda3\\lib\\site-packages\\sklearn\\utils\\deprecation.py:87: FutureWarning: Function get_feature_names is deprecated; get_feature_names is deprecated in 1.0 and will be removed in 1.2. Please use get_feature_names_out instead.\n",
      "  warnings.warn(msg, category=FutureWarning)\n"
     ]
    }
   ],
   "source": [
    "import numpy as np\n",
    "feature_names = np.array(vect.get_feature_names())"
   ]
  },
  {
   "cell_type": "code",
   "execution_count": 56,
   "id": "9003f472",
   "metadata": {},
   "outputs": [],
   "source": [
    "sort = model.coef_[0].argsort()"
   ]
  },
  {
   "cell_type": "code",
   "execution_count": 57,
   "id": "5ebaa098",
   "metadata": {},
   "outputs": [
    {
     "data": {
      "text/plain": [
       "array(['antiwork', 'libertarian', 'libertarians', 'desantis', 'ronald',\n",
       "       'sotu', 'bitcoin', 'poll', 'capitalism', 'ukrainians', 'confused',\n",
       "       'durham', 'nov', 'sowell', 'sends', 'border', 'inflation',\n",
       "       'truckers', 'ancaps', 'anarchism', 'force', 'libertarianism',\n",
       "       'able', 'convoy', 'putin'], dtype='<U16')"
      ]
     },
     "execution_count": 57,
     "metadata": {},
     "output_type": "execute_result"
    }
   ],
   "source": [
    "feature_names[sort[:25]]"
   ]
  },
  {
   "cell_type": "code",
   "execution_count": 58,
   "id": "ee40f5e4",
   "metadata": {},
   "outputs": [
    {
     "data": {
      "text/plain": [
       "array(['trans', 'accurate', 'far', 'white', 'feminism', 'newly',\n",
       "       'governor', 'unemployment', 'cases', 'corrupt', 'georgia', 'plan',\n",
       "       'issue', 'cuba', 'democracy', 'reveal', 'dems', 'senator',\n",
       "       'perfect', 'coup', 'dsa', 'racist', 'workers', 'sexual', 'women'],\n",
       "      dtype='<U16')"
      ]
     },
     "execution_count": 58,
     "metadata": {},
     "output_type": "execute_result"
    }
   ],
   "source": [
    "feature_names[sort[-25:]]"
   ]
  },
  {
   "cell_type": "code",
   "execution_count": null,
   "id": "e4b6e146",
   "metadata": {},
   "outputs": [],
   "source": []
  }
 ],
 "metadata": {
  "kernelspec": {
   "display_name": "Python 3 (ipykernel)",
   "language": "python",
   "name": "python3"
  },
  "language_info": {
   "codemirror_mode": {
    "name": "ipython",
    "version": 3
   },
   "file_extension": ".py",
   "mimetype": "text/x-python",
   "name": "python",
   "nbconvert_exporter": "python",
   "pygments_lexer": "ipython3",
   "version": "3.9.12"
  }
 },
 "nbformat": 4,
 "nbformat_minor": 5
}
